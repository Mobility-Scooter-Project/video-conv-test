{
 "cells": [
  {
   "cell_type": "markdown",
   "id": "687b3abe",
   "metadata": {},
   "source": [
    "# Purpose: Count the number of each type of label in a dataset of 22 spreadsheets\n",
    "- Primarily to prove imbalance in data"
   ]
  },
  {
   "cell_type": "code",
   "execution_count": 10,
   "id": "f32ec099",
   "metadata": {},
   "outputs": [],
   "source": [
    "#############\n",
    "### Imports\n",
    "#############\n",
    "import os\n",
    "import pandas as pd"
   ]
  },
  {
   "cell_type": "code",
   "execution_count": 14,
   "id": "d8ab3850",
   "metadata": {},
   "outputs": [],
   "source": [
    "############\n",
    "### Initialization\n",
    "############\n",
    "# Create a dictionary containing label name and count corresponding to the label name\n",
    "labelDict = {} # Initially empty, no labels have been read yet\n",
    "\n",
    "# Define directory + file list (follows: https://www.youtube.com/watch?v=_TFtG-lHNHI)\n",
    "directory = r\".\\ScooterData\" # Dataset path\n",
    "file_list = os.listdir(directory)  # List of all CSV file names\n",
    "numFiles = 0  # Variable to keep track of the number of files\n",
    "\n",
    "############\n",
    "### Iteration\n",
    "#############\n",
    "# Iterate through each csv file (outer loop)\n",
    "for path in file_list:\n",
    "    numFiles += 1  # Increment to the total # of files\n",
    "    \n",
    "    df = pd.read_csv(directory + \"\\\\\" + path) # Dataframe from Nth csv file\n",
    "    \n",
    "    # Iterate through each element of Nth csv file (inner loop)\n",
    "    for i in df.index:\n",
    "        if df[\"label\"][i] in labelDict:  # If a label DOES exists in the dictionary...\n",
    "            labelDict[df[\"label\"][i]] += 1 # Increment to the corresponding count\n",
    "        else: # Otherwise (if label does NOT exist)...\n",
    "            labelDict[df[\"label\"][i]] = 1  # Initialize the count as \"1\"\n",
    "\n"
   ]
  },
  {
   "cell_type": "code",
   "execution_count": null,
   "id": "1627f282",
   "metadata": {},
   "outputs": [],
   "source": []
  }
 ],
 "metadata": {
  "kernelspec": {
   "display_name": "Python 3 (ipykernel)",
   "language": "python",
   "name": "python3"
  },
  "language_info": {
   "codemirror_mode": {
    "name": "ipython",
    "version": 3
   },
   "file_extension": ".py",
   "mimetype": "text/x-python",
   "name": "python",
   "nbconvert_exporter": "python",
   "pygments_lexer": "ipython3",
   "version": "3.9.17"
  }
 },
 "nbformat": 4,
 "nbformat_minor": 5
}
