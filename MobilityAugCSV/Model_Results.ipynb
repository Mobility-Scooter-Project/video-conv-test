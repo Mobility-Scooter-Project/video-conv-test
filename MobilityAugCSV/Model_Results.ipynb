{
 "cells": [
  {
   "cell_type": "markdown",
   "id": "9ddd51d0",
   "metadata": {},
   "source": [
    "# Purpose: To compare the accuracy levels of a model trained with and without the augmented data set\n",
    "- Steps:\n",
    "    1. Build/reuse a LSTM based classification model, output: 1 out of 3 classes for each test sample.\n",
    "    2. Use original dataset, train and test the accuracy level.\n",
    "    3. Use augmented dataset (augmented rare classes + 80% of original data) for training, use 20% of original data for testing.\n",
    "    4. Compare accuracy levels of 3 and 4. "
   ]
  },
  {
   "cell_type": "markdown",
   "id": "bf1e617b",
   "metadata": {},
   "source": [
    "# 0. Initialization"
   ]
  },
  {
   "cell_type": "code",
   "execution_count": 13,
   "id": "7f3248e7",
   "metadata": {},
   "outputs": [],
   "source": [
    "########\n",
    "# Imports\n",
    "########\n",
    "import tensorflow as tf\n",
    "import keras\n",
    "import os\n",
    "import pandas as pd\n",
    "import src.mutils as util"
   ]
  },
  {
   "cell_type": "code",
   "execution_count": 14,
   "id": "1a85003f",
   "metadata": {
    "scrolled": false
   },
   "outputs": [
    {
     "name": "stdout",
     "output_type": "stream",
     "text": [
      "[PhysicalDevice(name='/physical_device:GPU:0', device_type='GPU')]\n"
     ]
    }
   ],
   "source": [
    "########\n",
    "# Check for GPU\n",
    "########\n",
    "print(tf.config.list_physical_devices('GPU'))"
   ]
  },
  {
   "cell_type": "markdown",
   "id": "95570ff7",
   "metadata": {},
   "source": [
    "# 1. Train the LSTM classification model w/ original dataset"
   ]
  },
  {
   "cell_type": "code",
   "execution_count": 9,
   "id": "a65192bc",
   "metadata": {},
   "outputs": [],
   "source": []
  },
  {
   "cell_type": "code",
   "execution_count": 11,
   "id": "b96d708b",
   "metadata": {},
   "outputs": [],
   "source": [
    "df = pd.read_csv(\"./ScooterData/Front 1.mp4.csv\") # Dataframe from Nth csv file"
   ]
  },
  {
   "cell_type": "code",
   "execution_count": 19,
   "id": "1c9442a8",
   "metadata": {},
   "outputs": [
    {
     "data": {
      "text/plain": [
       "(array([], dtype=float64),\n",
       " array([], dtype=float64),\n",
       " array([], dtype=float64),\n",
       " array([], dtype=float64),\n",
       " array([[ 0.00000000e+00,  9.08007920e-02, -6.12982869e-01, ...,\n",
       "         -1.10081643e-01, -1.71017200e-02, -7.83752091e-03],\n",
       "        [ 1.00000000e+00,  9.09924135e-02, -6.13051951e-01, ...,\n",
       "         -1.10074483e-01, -1.73101872e-02, -7.88121857e-03],\n",
       "        [ 2.00000000e+00,  9.09468457e-02, -6.13150060e-01, ...,\n",
       "         -1.10040940e-01, -1.73895899e-02, -7.42972549e-03],\n",
       "        ...,\n",
       "        [ 4.21300000e+03,  1.68868661e-01, -5.80009401e-01, ...,\n",
       "         -1.10891759e-01, -2.62079947e-02, -3.10749505e-02],\n",
       "        [ 4.21400000e+03,  1.66271180e-01, -5.84010363e-01, ...,\n",
       "         -1.11008853e-01, -2.50091739e-02, -3.10690124e-02],\n",
       "        [ 4.21500000e+03,  1.64620250e-01, -5.84033012e-01, ...,\n",
       "         -1.11168511e-01, -2.44276859e-02, -3.07505187e-02]]),\n",
       " array(['Stable', 'Stable', 'Stable', ..., 'Minimum Sway', 'Minimum Sway',\n",
       "        'Minimum Sway'], dtype='<U12'))"
      ]
     },
     "execution_count": 19,
     "metadata": {},
     "output_type": "execute_result"
    }
   ],
   "source": []
  },
  {
   "cell_type": "code",
   "execution_count": null,
   "id": "2ad1db74",
   "metadata": {},
   "outputs": [],
   "source": []
  }
 ],
 "metadata": {
  "kernelspec": {
   "display_name": "Python 3 (ipykernel)",
   "language": "python",
   "name": "python3"
  },
  "language_info": {
   "codemirror_mode": {
    "name": "ipython",
    "version": 3
   },
   "file_extension": ".py",
   "mimetype": "text/x-python",
   "name": "python",
   "nbconvert_exporter": "python",
   "pygments_lexer": "ipython3",
   "version": "3.9.17"
  }
 },
 "nbformat": 4,
 "nbformat_minor": 5
}
