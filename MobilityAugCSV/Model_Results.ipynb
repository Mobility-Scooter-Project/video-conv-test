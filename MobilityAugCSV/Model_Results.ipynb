{
 "cells": [
  {
   "cell_type": "markdown",
   "id": "9ddd51d0",
   "metadata": {},
   "source": [
    "# Purpose: To compare the accuracy levels of a model trained with and without the augmented data set\n",
    "- Steps:\n",
    "    1. Build/reuse a LSTM based classification model, output: 1 out of 3 classes for each test sample.\n",
    "    2. Use original dataset, train and test the accuracy level.\n",
    "    3. Use augmented dataset (augmented rare classes + 80% of original data) for training, use 20% of original data for testing.\n",
    "    4. Compare accuracy levels of 3 and 4. "
   ]
  },
  {
   "cell_type": "markdown",
   "id": "bf1e617b",
   "metadata": {},
   "source": [
    "# 0. Initialization"
   ]
  },
  {
   "cell_type": "code",
   "execution_count": 4,
   "id": "7f3248e7",
   "metadata": {},
   "outputs": [],
   "source": [
    "########\n",
    "# Imports\n",
    "########\n",
    "import tensorflow as tf\n",
    "import keras\n",
    "import os\n",
    "import pandas as pd\n"
   ]
  },
  {
   "cell_type": "code",
   "execution_count": 2,
   "id": "1a85003f",
   "metadata": {
    "scrolled": false
   },
   "outputs": [],
   "source": [
    "# idk\n",
    "# DATA = mu.get_filenames(\"ScooterData\")\n",
    "# len(DATA)\n",
    "print(\"TET\")"
   ]
  },
  {
   "cell_type": "markdown",
   "id": "95570ff7",
   "metadata": {},
   "source": [
    "# 1. Train the LSTM classification model w/ original dataset"
   ]
  },
  {
   "cell_type": "code",
   "execution_count": null,
   "id": "a65192bc",
   "metadata": {},
   "outputs": [],
   "source": []
  }
 ],
 "metadata": {
  "kernelspec": {
   "display_name": "Python 3 (ipykernel)",
   "language": "python",
   "name": "python3"
  },
  "language_info": {
   "codemirror_mode": {
    "name": "ipython",
    "version": 3
   },
   "file_extension": ".py",
   "mimetype": "text/x-python",
   "name": "python",
   "nbconvert_exporter": "python",
   "pygments_lexer": "ipython3",
   "version": "3.9.17"
  }
 },
 "nbformat": 4,
 "nbformat_minor": 5
}
