{
 "cells": [
  {
   "cell_type": "markdown",
   "id": "9ddd51d0",
   "metadata": {},
   "source": [
    "# Purpose: To compare the accuracy levels of a model trained with and without the augmented data set\n",
    "- Steps:\n",
    "    0. Initialization\n",
    "    1. Split testing/training data\n",
    "    2. Build/reuse a LSTM based classification model, output: 1 out of 3 classes for each test sample.\n",
    "    3. Use original dataset, train and test the accuracy level.\n",
    "    4. Use augmented dataset (augmented rare classes + 80% of original data) for training, use 20% of original data for testing.\n",
    "    5. Compare accuracy levels of 3 and 4. "
   ]
  },
  {
   "cell_type": "markdown",
   "id": "bf1e617b",
   "metadata": {},
   "source": [
    "# 0. Initialization"
   ]
  },
  {
   "cell_type": "code",
   "execution_count": 1,
   "id": "7f3248e7",
   "metadata": {},
   "outputs": [],
   "source": [
    "########\n",
    "# Imports\n",
    "########\n",
    "import tensorflow as tf\n",
    "import keras\n",
    "import os\n",
    "import pandas as pd\n",
    "import src.mutils as util"
   ]
  },
  {
   "cell_type": "code",
   "execution_count": 2,
   "id": "1a85003f",
   "metadata": {
    "scrolled": false
   },
   "outputs": [
    {
     "name": "stdout",
     "output_type": "stream",
     "text": [
      "[PhysicalDevice(name='/physical_device:GPU:0', device_type='GPU')]\n"
     ]
    }
   ],
   "source": [
    "########\n",
    "# Check for GPU\n",
    "########\n",
    "print(tf.config.list_physical_devices('GPU'))"
   ]
  },
  {
   "cell_type": "markdown",
   "id": "075a08f4",
   "metadata": {},
   "source": [
    "# 1. Split testing/training data"
   ]
  },
  {
   "cell_type": "code",
   "execution_count": 2,
   "id": "71a867bb",
   "metadata": {},
   "outputs": [],
   "source": [
    "########\n",
    "# Get the number of data rows in the sample dataset\n",
    "########\n",
    "util.get_num_labels_in_folder(\".\\ScooterData\", \"num_labels\", \"non_aug_labels_1\")\n",
    "util.get_num_labels_in_folder(\".\\AugData\", \"num_labels\", \"aug_labels_1\")"
   ]
  },
  {
   "cell_type": "code",
   "execution_count": 2,
   "id": "a37b6f4f",
   "metadata": {},
   "outputs": [
    {
     "name": "stdout",
     "output_type": "stream",
     "text": [
      "--------------------------\n",
      "             x0        y0        z0        x1        y1        z1        x2  \\\n",
      "0      0.276371 -0.544338 -0.215563  0.316652 -0.357965  0.075728  0.083266   \n",
      "1      0.343582 -0.522834 -0.140957  0.316629 -0.346788  0.047645  0.040785   \n",
      "2      0.298896 -0.466891 -0.164636  0.302799 -0.330828  0.030200  0.071863   \n",
      "3      0.342617 -0.527306 -0.309691  0.277172 -0.385516  0.013740  0.016897   \n",
      "4      0.342506 -0.590904 -0.199543  0.281872 -0.392835  0.062075  0.061822   \n",
      "...         ...       ...       ...       ...       ...       ...       ...   \n",
      "12027 -0.068764 -0.497492 -0.201677  0.164586 -0.533366 -0.079943 -0.110369   \n",
      "12028 -0.066676 -0.497683 -0.202467  0.164614 -0.533343 -0.079573 -0.110369   \n",
      "12029 -0.068761 -0.501456 -0.203680  0.160980 -0.534479 -0.081749 -0.112862   \n",
      "12030 -0.067264 -0.506827 -0.204637  0.160022 -0.536045 -0.081494 -0.114240   \n",
      "12031 -0.067264 -0.506827 -0.204637  0.160022 -0.536045 -0.081494 -0.114240   \n",
      "\n",
      "             y2        z2        x3  ...        x6        y6        z6  \\\n",
      "0     -0.439459 -0.115699  0.158390  ... -0.149875 -0.022775 -0.245575   \n",
      "1     -0.436951 -0.146733  0.246292  ... -0.246995 -0.090815 -0.221157   \n",
      "2     -0.415789 -0.110580  0.177050  ... -0.171627 -0.021953 -0.215430   \n",
      "3     -0.438824 -0.155222  0.197860  ... -0.224604  0.044155 -0.271350   \n",
      "4     -0.391547 -0.257671  0.166401  ... -0.191455  0.042807 -0.257560   \n",
      "...         ...       ...       ...  ...       ...       ...       ...   \n",
      "12027 -0.447923 -0.064704  0.230698  ... -0.218453 -0.139820 -0.199606   \n",
      "12028 -0.447729 -0.065711  0.231817  ... -0.217452 -0.138927 -0.189205   \n",
      "12029 -0.447703 -0.066353  0.228960  ... -0.228193 -0.140334 -0.187694   \n",
      "12030 -0.448083 -0.066000  0.229013  ... -0.227265 -0.140935 -0.202426   \n",
      "12031 -0.448083 -0.066000  0.229013  ... -0.227265 -0.140935 -0.202426   \n",
      "\n",
      "             x7        y7        z7        x8        y8        z8  \\\n",
      "0      0.066217  0.065145  0.037394 -0.096001 -0.069109 -0.030106   \n",
      "1      0.083068  0.041510  0.071743 -0.106687  0.001316 -0.012924   \n",
      "2      0.079223  0.046921  0.049292 -0.088784 -0.047309 -0.074577   \n",
      "3      0.100877  0.060535  0.038816 -0.086488 -0.070024 -0.073087   \n",
      "4      0.075200  0.042355  0.079565 -0.127135 -0.055699 -0.112655   \n",
      "...         ...       ...       ...       ...       ...       ...   \n",
      "12027  0.145293  0.006731  0.002252 -0.127150 -0.037145  0.003763   \n",
      "12028  0.145809  0.006725  0.002530 -0.127625 -0.037057  0.003549   \n",
      "12029  0.146264  0.006418  0.002430 -0.128025 -0.036478  0.003706   \n",
      "12030  0.144761  0.006292  0.002374 -0.126805 -0.035258  0.003677   \n",
      "12031  0.144761  0.006292  0.002374 -0.126805 -0.035258  0.003677   \n",
      "\n",
      "              label  \n",
      "0      Minimum Sway  \n",
      "1      Minimum Sway  \n",
      "2      Minimum Sway  \n",
      "3      Minimum Sway  \n",
      "4      Minimum Sway  \n",
      "...             ...  \n",
      "12027  Minimum Sway  \n",
      "12028  Minimum Sway  \n",
      "12029  Minimum Sway  \n",
      "12030  Minimum Sway  \n",
      "12031  Minimum Sway  \n",
      "\n",
      "[12032 rows x 28 columns]\n",
      "-----------------------\n",
      "160998\n",
      "2387\n"
     ]
    },
    {
     "ename": "AttributeError",
     "evalue": "module 'src.mutils' has no attribute 'getTrainTestData'",
     "output_type": "error",
     "traceback": [
      "\u001b[1;31m---------------------------------------------------------------------------\u001b[0m",
      "\u001b[1;31mAttributeError\u001b[0m                            Traceback (most recent call last)",
      "Cell \u001b[1;32mIn[2], line 31\u001b[0m\n\u001b[0;32m     29\u001b[0m \u001b[38;5;28mprint\u001b[39m(test_1)\n\u001b[0;32m     30\u001b[0m \u001b[38;5;28mprint\u001b[39m(test_1 \u001b[38;5;241m-\u001b[39m \u001b[38;5;28mlen\u001b[39m(y_train_norm) \u001b[38;5;241m-\u001b[39m \u001b[38;5;28mlen\u001b[39m(y_test_norm))\n\u001b[1;32m---> 31\u001b[0m X_train, X_test, y_train, y_test \u001b[38;5;241m=\u001b[39m \u001b[43mutil\u001b[49m\u001b[38;5;241;43m.\u001b[39;49m\u001b[43mgetTrainTestData\u001b[49m(test_size\u001b[38;5;241m=\u001b[39m\u001b[38;5;241m0.3\u001b[39m, step_size\u001b[38;5;241m=\u001b[39m\u001b[38;5;241m16\u001b[39m, use_aug\u001b[38;5;241m=\u001b[39m\u001b[38;5;28;01mFalse\u001b[39;00m)\n",
      "\u001b[1;31mAttributeError\u001b[0m: module 'src.mutils' has no attribute 'getTrainTestData'"
     ]
    }
   ],
   "source": [
    "########\n",
    "# Split the data into train/test samples appropriately -----\n",
    "########\n",
    "path_norm = \".\\ScooterData\"    # Folder path for the non-augmented data\n",
    "path_aug = \".\\AugData\"         # Folder path for the augmented data\n",
    "\n",
    "file_names_norm = util.get_filenames(path_norm)\n",
    "file_names_aug = util.get_filenames(path_aug)\n",
    "\n",
    "# Save non-augmented data as a dataframe \n",
    "df_normal = pd.concat(\n",
    "    map(pd.read_csv, file_names_norm), ignore_index=True)\n",
    "# Remove extra index column\n",
    "df_normal.pop(df_normal.columns[0])\n",
    "\n",
    "\n",
    "# Save augmented data as a dataframe \n",
    "df_aug = pd.concat(\n",
    "    map(pd.read_csv, [file for file in file_names_aug]), ignore_index=True)\n",
    "# Remove extra index column\n",
    "df_aug.pop(df_aug.columns[0])\n",
    "\n",
    "X_train_norm, y_train_norm, X_valid_norm, y_valid_norm, X_test_norm, y_test_norm = util.get_train_test_data(df_normal, 0.2, 0)\n",
    "\n",
    "X_train_aug, y_train_aug, X_valid_aug, y_valid_aug, X_test_aug, y_test_aug = util.get_train_test_data(df_normal, 0.2, 0, True, df_aug)\n",
    "    \n",
    "    \n",
    "test_1 = len(y_train_aug) + len(y_test_aug)\n",
    "print(test_1)\n",
    "print(test_1 - len(y_train_norm) - len(y_test_norm))\n",
    "\n"
   ]
  },
  {
   "cell_type": "markdown",
   "id": "95570ff7",
   "metadata": {},
   "source": [
    "# 2. Train the LSTM classification model w/ original dataset"
   ]
  },
  {
   "cell_type": "code",
   "execution_count": 9,
   "id": "a65192bc",
   "metadata": {},
   "outputs": [],
   "source": []
  },
  {
   "cell_type": "code",
   "execution_count": 11,
   "id": "b96d708b",
   "metadata": {},
   "outputs": [],
   "source": []
  },
  {
   "cell_type": "code",
   "execution_count": 19,
   "id": "1c9442a8",
   "metadata": {},
   "outputs": [
    {
     "data": {
      "text/plain": [
       "(array([], dtype=float64),\n",
       " array([], dtype=float64),\n",
       " array([], dtype=float64),\n",
       " array([], dtype=float64),\n",
       " array([[ 0.00000000e+00,  9.08007920e-02, -6.12982869e-01, ...,\n",
       "         -1.10081643e-01, -1.71017200e-02, -7.83752091e-03],\n",
       "        [ 1.00000000e+00,  9.09924135e-02, -6.13051951e-01, ...,\n",
       "         -1.10074483e-01, -1.73101872e-02, -7.88121857e-03],\n",
       "        [ 2.00000000e+00,  9.09468457e-02, -6.13150060e-01, ...,\n",
       "         -1.10040940e-01, -1.73895899e-02, -7.42972549e-03],\n",
       "        ...,\n",
       "        [ 4.21300000e+03,  1.68868661e-01, -5.80009401e-01, ...,\n",
       "         -1.10891759e-01, -2.62079947e-02, -3.10749505e-02],\n",
       "        [ 4.21400000e+03,  1.66271180e-01, -5.84010363e-01, ...,\n",
       "         -1.11008853e-01, -2.50091739e-02, -3.10690124e-02],\n",
       "        [ 4.21500000e+03,  1.64620250e-01, -5.84033012e-01, ...,\n",
       "         -1.11168511e-01, -2.44276859e-02, -3.07505187e-02]]),\n",
       " array(['Stable', 'Stable', 'Stable', ..., 'Minimum Sway', 'Minimum Sway',\n",
       "        'Minimum Sway'], dtype='<U12'))"
      ]
     },
     "execution_count": 19,
     "metadata": {},
     "output_type": "execute_result"
    }
   ],
   "source": []
  },
  {
   "cell_type": "code",
   "execution_count": null,
   "id": "2ad1db74",
   "metadata": {},
   "outputs": [],
   "source": []
  }
 ],
 "metadata": {
  "kernelspec": {
   "display_name": "Python 3 (ipykernel)",
   "language": "python",
   "name": "python3"
  },
  "language_info": {
   "codemirror_mode": {
    "name": "ipython",
    "version": 3
   },
   "file_extension": ".py",
   "mimetype": "text/x-python",
   "name": "python",
   "nbconvert_exporter": "python",
   "pygments_lexer": "ipython3",
   "version": "3.9.17"
  }
 },
 "nbformat": 4,
 "nbformat_minor": 5
}
